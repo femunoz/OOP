{
 "cells": [
  {
   "cell_type": "markdown",
   "id": "3e73bf25",
   "metadata": {},
   "source": [
    "# Uso y definición de funciones\n",
    "\n",
    "### Al finalizar esta unidad usted:\n",
    "\n",
    "* Conocerá la forma de utilizar funciones en Python 3 y su importancia.\n",
    "* Será capaz de definir funciones en Python 3.\n",
    "* Aprenderá a utilizar buenas prácticas para la definición de funciones\n"
   ]
  },
  {
   "cell_type": "code",
   "execution_count": 1,
   "id": "3aa03599",
   "metadata": {
    "scrolled": false
   },
   "outputs": [],
   "source": [
    "import math\n",
    "def area(r):\n",
    "    return math.pi*r**2\n",
    "area(1)"
   ]
  },
  {
   "cell_type": "code",
   "execution_count": null,
   "id": "ea4f2dae",
   "metadata": {},
   "outputs": [],
   "source": []
  }
 ],
 "metadata": {
  "kernelspec": {
   "display_name": "Python 3 (ipykernel)",
   "language": "python",
   "name": "python3"
  },
  "language_info": {
   "codemirror_mode": {
    "name": "ipython",
    "version": 3
   },
   "file_extension": ".py",
   "mimetype": "text/x-python",
   "name": "python",
   "nbconvert_exporter": "python",
   "pygments_lexer": "ipython3",
   "version": "3.9.1"
  }
 },
 "nbformat": 4,
 "nbformat_minor": 5
}
